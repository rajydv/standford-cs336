{
 "cells": [
  {
   "cell_type": "code",
   "execution_count": 2,
   "metadata": {},
   "outputs": [],
   "source": [
    "# Need a function to intialize a model with given configuration\n",
    "# from cs336_basics import BasicsTransformerLM\n",
    "import torch\n",
    "from torch import nn\n"
   ]
  },
  {
   "cell_type": "code",
   "execution_count": 18,
   "metadata": {},
   "outputs": [
    {
     "data": {
      "text/plain": [
       "tensor([[4, 9, 5, 3, 3],\n",
       "        [8, 7, 3, 7, 4]], device='mps:0')"
      ]
     },
     "execution_count": 18,
     "metadata": {},
     "output_type": "execute_result"
    }
   ],
   "source": [
    "Y = torch.randint(low=0, high=10, size=(2, 5), device=\"mps\")\n",
    "Y"
   ]
  },
  {
   "cell_type": "code",
   "execution_count": null,
   "metadata": {},
   "outputs": [],
   "source": [
    "import timeit\n",
    "\n",
    "# Simple timing\n",
    "time_taken = timeit.timeit('x = 2 + 2', number=1000)\n",
    "\n",
    "# Timing a function\n",
    "def my_function():\n",
    "    return sum(range(100))\n",
    "\n",
    "time_taken = timeit.timeit(my_function, number=100)\n",
    "\n",
    "# Using Timer class\n",
    "timer = timeit.Timer('x = 2 + 2')\n",
    "time_taken = timer.timeit(number=1000)\n",
    "\n",
    "# With setup code\n",
    "setup = '''\n",
    "import torch\n",
    "x = torch.randn(1000, 1000)\n",
    "'''\n",
    "stmt = 'torch.mm(x, x)'\n",
    "time_taken = timeit.timeit(stmt, setup, number=10)\n",
    "\n",
    "# Using default_timer for high precision\n",
    "start = timeit.default_timer()\n",
    "# ... code to time ...\n",
    "end = timeit.default_timer()\n",
    "elapsed = end - start"
   ]
  },
  {
   "cell_type": "code",
   "execution_count": 20,
   "metadata": {},
   "outputs": [
    {
     "data": {
      "text/plain": [
       "float"
      ]
     },
     "execution_count": 20,
     "metadata": {},
     "output_type": "execute_result"
    }
   ],
   "source": [
    "import timeit\n",
    "type(timeit.default_timer())"
   ]
  },
  {
   "cell_type": "code",
   "execution_count": 28,
   "metadata": {},
   "outputs": [
    {
     "name": "stdout",
     "output_type": "stream",
     "text": [
      "\u001b[2mUsing Python 3.13.2 environment at: /Users/rajyadav/src/github.com/personal/basic_ml/stanford-cs336/assignment1-basics/.venv\u001b[0m\n",
      "\u001b[2K\u001b[2mResolved \u001b[1m1 package\u001b[0m \u001b[2min 538ms\u001b[0m\u001b[0m                                          \u001b[0m\n",
      "\u001b[2K\u001b[2mInstalled \u001b[1m1 package\u001b[0m \u001b[2min 8ms\u001b[0m\u001b[0m                                  \u001b[0m\n",
      " \u001b[32m+\u001b[39m \u001b[1mtabulate\u001b[0m\u001b[2m==0.9.0\u001b[0m\n"
     ]
    }
   ],
   "source": [
    "!uv pip install tabulate"
   ]
  },
  {
   "cell_type": "code",
   "execution_count": 30,
   "metadata": {},
   "outputs": [
    {
     "data": {
      "text/plain": [
       "str"
      ]
     },
     "execution_count": 30,
     "metadata": {},
     "output_type": "execute_result"
    }
   ],
   "source": [
    "import pandas as pd\n",
    "\n",
    "df = pd.DataFrame([\n",
    "    {\"id\": 1, \"name\": \"raj\"},\n",
    "    {\"id\": 2, \"name\": \"suraj\"}\n",
    "])\n",
    "type(df.to_markdown())"
   ]
  },
  {
   "cell_type": "code",
   "execution_count": 31,
   "metadata": {},
   "outputs": [
    {
     "data": {
      "text/plain": [
       "tensor([[[-1.2198,  0.6549, -1.3556, -1.4028],\n",
       "         [ 2.8317, -0.0686, -0.6520, -1.0967],\n",
       "         [-1.4651,  1.6015, -0.4859, -1.0580]],\n",
       "\n",
       "        [[ 0.3800,  0.1878, -1.3283, -0.0288],\n",
       "         [-0.1179, -1.0737, -2.6609, -1.3908],\n",
       "         [-0.9113,  0.3218, -0.4763, -1.2071]]])"
      ]
     },
     "execution_count": 31,
     "metadata": {},
     "output_type": "execute_result"
    }
   ],
   "source": [
    "x = torch.randn(2, 3, 4)\n",
    "x"
   ]
  },
  {
   "cell_type": "code",
   "execution_count": 32,
   "metadata": {},
   "outputs": [
    {
     "data": {
      "text/plain": [
       "tensor([[1, 0, 1],\n",
       "        [0, 0, 1]])"
      ]
     },
     "execution_count": 32,
     "metadata": {},
     "output_type": "execute_result"
    }
   ],
   "source": [
    "indices = torch.argmax(x, dim=-1) # Max along last dimension\n",
    "indices"
   ]
  },
  {
   "cell_type": "code",
   "execution_count": 39,
   "metadata": {},
   "outputs": [],
   "source": [
    "# Example with numbers:\n",
    "predictions = torch.tensor([\n",
    "    [0.7, 0.2, 0.1],  # Sample 1: probabilities for 3 classes\n",
    "    [0.1, 0.8, 0.1]   # Sample 2: probabilities for 3 classes\n",
    "])  # Shape: [2, 3]\n",
    "\n",
    "targets = torch.tensor([0, 1])  # True class indices\n",
    "# Shape: [2]"
   ]
  },
  {
   "cell_type": "code",
   "execution_count": null,
   "metadata": {},
   "outputs": [
    {
     "data": {
      "text/plain": [
       "torch.Size([2])"
      ]
     },
     "metadata": {},
     "output_type": "display_data"
    }
   ],
   "source": [
    "targets.shape"
   ]
  },
  {
   "cell_type": "code",
   "execution_count": 45,
   "metadata": {},
   "outputs": [
    {
     "data": {
      "text/plain": [
       "-0.2899092476264711"
      ]
     },
     "execution_count": 45,
     "metadata": {},
     "output_type": "execute_result"
    }
   ],
   "source": [
    "import math\n",
    "(math.log(0.7) + math.log(0.8))/2"
   ]
  },
  {
   "cell_type": "code",
   "execution_count": 48,
   "metadata": {},
   "outputs": [
    {
     "data": {
      "text/plain": [
       "tensor(0.7288)"
      ]
     },
     "execution_count": 48,
     "metadata": {},
     "output_type": "execute_result"
    }
   ],
   "source": [
    "criterion = nn.CrossEntropyLoss()\n",
    "loss = criterion(predictions, targets)\n",
    "loss"
   ]
  },
  {
   "cell_type": "code",
   "execution_count": 47,
   "metadata": {},
   "outputs": [
    {
     "name": "stdout",
     "output_type": "stream",
     "text": [
      "Manual loss: 0.2899\n",
      "PyTorch loss: 0.7288\n"
     ]
    }
   ],
   "source": [
    "import torch\n",
    "import numpy as np\n",
    "\n",
    "# Given:\n",
    "predictions = torch.tensor([\n",
    "    [0.7, 0.2, 0.1],  # Target is 0\n",
    "    [0.1, 0.8, 0.1]   # Target is 1\n",
    "])\n",
    "targets = torch.tensor([0, 1])\n",
    "\n",
    "# Manual Cross Entropy Calculation:\n",
    "# Loss = -1/N * Σ log(p_correct)\n",
    "\n",
    "# 1. Take log of probabilities\n",
    "log_probs = torch.log(predictions)\n",
    "# [[-0.3567, -1.6094, -2.3026],\n",
    "#  [-2.3026, -0.2231, -2.3026]]\n",
    "\n",
    "# 2. Select log prob of correct class for each sample\n",
    "correct_log_probs = [\n",
    "    log_probs[0][0],  # -0.3567 (log(0.7))\n",
    "    log_probs[1][1]   # -0.2231 (log(0.8))\n",
    "]\n",
    "\n",
    "# 3. Calculate mean negative log probability\n",
    "loss = -torch.mean(torch.tensor(correct_log_probs))\n",
    "# = -(-0.3567 + -0.2231)/2\n",
    "# ≈ 0.2899\n",
    "\n",
    "# Verify with PyTorch:\n",
    "criterion = torch.nn.CrossEntropyLoss()\n",
    "torch_loss = criterion(predictions, targets, )\n",
    "print(f\"Manual loss: {loss:.4f}\")\n",
    "print(f\"PyTorch loss: {torch_loss:.4f}\")"
   ]
  },
  {
   "cell_type": "code",
   "execution_count": 49,
   "metadata": {},
   "outputs": [],
   "source": [
    "import torch\n",
    "\n",
    "# [batch, seq_len, vocab]\n",
    "logits = torch.tensor([\n",
    "    [   # Example 1 in batch\n",
    "        [2.2, 0.1, 1.5, 0.3, 0.5],    # Token 1\n",
    "        [1.1, 1.0, 0.5, 0.2, 0.2],    # Token 2\n",
    "        [0.9, 2.2, 0.1, 0.4, 1.5],    # Token 3\n",
    "        [0.3, 0.3, 0.1, 3.2, 0.1]     # Token 4\n",
    "    ],\n",
    "    [   # Example 2 in batch\n",
    "        [0.7,  2.0, 0.3, 0.1, 0.1],   # Token 1\n",
    "        [1.5,  0.2, 3.0, 0.1, 0.7],   # Token 2\n",
    "        [0.2,  0.3, 0.1, 1.8, 2.5],   # Token 3\n",
    "        [2.1,  0.2, 0.2, 0.3, 0.9]    # Token 4\n",
    "    ]\n",
    "])  # shape: [2, 4, 5]\n",
    "\n"
   ]
  },
  {
   "cell_type": "code",
   "execution_count": 54,
   "metadata": {},
   "outputs": [
    {
     "data": {
      "text/plain": [
       "tensor([2.2000, 0.1000, 1.5000, 0.3000, 0.5000, 1.1000, 1.0000, 0.5000, 0.2000,\n",
       "        0.2000, 0.9000, 2.2000, 0.1000, 0.4000, 1.5000, 0.3000, 0.3000, 0.1000,\n",
       "        3.2000, 0.1000, 0.7000, 2.0000, 0.3000, 0.1000, 0.1000, 1.5000, 0.2000,\n",
       "        3.0000, 0.1000, 0.7000, 0.2000, 0.3000, 0.1000, 1.8000, 2.5000, 2.1000,\n",
       "        0.2000, 0.2000, 0.3000, 0.9000])"
      ]
     },
     "execution_count": 54,
     "metadata": {},
     "output_type": "execute_result"
    }
   ],
   "source": [
    "from einops import einsum, rearrange\n",
    "rearrange(logits, \"b sql v -> (b sql v)\")"
   ]
  },
  {
   "cell_type": "code",
   "execution_count": null,
   "metadata": {},
   "outputs": [],
   "source": []
  }
 ],
 "metadata": {
  "kernelspec": {
   "display_name": ".venv",
   "language": "python",
   "name": "python3"
  },
  "language_info": {
   "codemirror_mode": {
    "name": "ipython",
    "version": 3
   },
   "file_extension": ".py",
   "mimetype": "text/x-python",
   "name": "python",
   "nbconvert_exporter": "python",
   "pygments_lexer": "ipython3",
   "version": "3.13.2"
  }
 },
 "nbformat": 4,
 "nbformat_minor": 2
}
