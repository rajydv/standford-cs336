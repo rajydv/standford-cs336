{
 "cells": [
  {
   "cell_type": "code",
   "execution_count": 3,
   "metadata": {},
   "outputs": [],
   "source": [
    "import torch\n",
    "from torch import nn\n",
    "from einops import einsum, rearrange"
   ]
  },
  {
   "cell_type": "code",
   "execution_count": 7,
   "metadata": {},
   "outputs": [
    {
     "data": {
      "text/plain": [
       "torch.Size"
      ]
     },
     "execution_count": 7,
     "metadata": {},
     "output_type": "execute_result"
    }
   ],
   "source": [
    "import torch\n",
    "in_features = torch.tensor([[\n",
    "        [0, 2, 3],\n",
    "        [1, 2, 4]\n",
    "    ],[\n",
    "        [10, 2, 3],\n",
    "        [1, 20, 4]\n",
    "    ]],\n",
    ")\n",
    "type(in_features.shape)"
   ]
  },
  {
   "cell_type": "code",
   "execution_count": 18,
   "metadata": {},
   "outputs": [
    {
     "data": {
      "text/plain": [
       "tensor([[[ 0,  2,  3],\n",
       "         [ 1,  2,  4]],\n",
       "\n",
       "        [[10,  2,  3],\n",
       "         [ 1, 20,  4]]])"
      ]
     },
     "execution_count": 18,
     "metadata": {},
     "output_type": "execute_result"
    }
   ],
   "source": [
    "in_features"
   ]
  },
  {
   "cell_type": "code",
   "execution_count": 8,
   "metadata": {},
   "outputs": [
    {
     "data": {
      "text/plain": [
       "tensor([[[0., 0., 0.],\n",
       "         [0., 0., 0.]],\n",
       "\n",
       "        [[0., 0., 0.],\n",
       "         [0., 0., 0.]]])"
      ]
     },
     "execution_count": 8,
     "metadata": {},
     "output_type": "execute_result"
    }
   ],
   "source": [
    "torch.empty(in_features.shape)"
   ]
  },
  {
   "cell_type": "code",
   "execution_count": null,
   "metadata": {},
   "outputs": [],
   "source": []
  },
  {
   "cell_type": "code",
   "execution_count": 12,
   "metadata": {},
   "outputs": [
    {
     "data": {
      "text/plain": [
       "tensor([[0.6000, 0.0600],\n",
       "        [1.5000, 0.1500],\n",
       "        [2.4000, 0.2400]])"
      ]
     },
     "execution_count": 12,
     "metadata": {},
     "output_type": "execute_result"
    }
   ],
   "source": [
    "Q = torch.tensor(\n",
    "    [\n",
    "        [1, 2, 3],\n",
    "        [4, 5, 6],\n",
    "        [7, 8, 9]\n",
    "    ], dtype=torch.float32\n",
    ")\n",
    "\n",
    "K = torch.tensor(\n",
    "    [\n",
    "        [0.1, 0.1, 0.1],\n",
    "        [0.01, 0.01, 0.01]\n",
    "    ]   \n",
    ")\n",
    "\n",
    "\n",
    "# [q1*k1 q1*k2]\n",
    "# [q2*k1 q2*k2]\n",
    "# [q3*k1 q3*k2]\n",
    "\n",
    "\n",
    "# Nq*Mk\n",
    "\n",
    "\n",
    "einsum(Q, K, \"n d, m d -> n m\")"
   ]
  },
  {
   "cell_type": "code",
   "execution_count": 104,
   "metadata": {},
   "outputs": [
    {
     "data": {
      "text/plain": [
       "torch.return_types.max(\n",
       "values=tensor([[[ 3],\n",
       "         [ 4]],\n",
       "\n",
       "        [[10],\n",
       "         [20]]]),\n",
       "indices=tensor([[[2],\n",
       "         [2]],\n",
       "\n",
       "        [[0],\n",
       "         [1]]]))"
      ]
     },
     "execution_count": 104,
     "metadata": {},
     "output_type": "execute_result"
    }
   ],
   "source": [
    "torch.max(in_features, dim=dim, keepdim=True)"
   ]
  },
  {
   "cell_type": "code",
   "execution_count": 106,
   "metadata": {},
   "outputs": [
    {
     "data": {
      "text/plain": [
       "tensor([[5],\n",
       "        [7]])"
      ]
     },
     "execution_count": 106,
     "metadata": {},
     "output_type": "execute_result"
    }
   ],
   "source": [
    "torch.sum(in_features, dim=dim, keepdim=True)[0]"
   ]
  },
  {
   "cell_type": "code",
   "execution_count": 92,
   "metadata": {},
   "outputs": [
    {
     "data": {
      "text/plain": [
       "tensor([[[ 3],\n",
       "         [ 4]],\n",
       "\n",
       "        [[10],\n",
       "         [20]]])"
      ]
     },
     "execution_count": 92,
     "metadata": {},
     "output_type": "execute_result"
    }
   ],
   "source": [
    "in_features_max = in_features.max(dim=dim).values.unsqueeze(dim=dim)\n",
    "in_features_max"
   ]
  },
  {
   "cell_type": "code",
   "execution_count": 1,
   "metadata": {},
   "outputs": [
    {
     "ename": "NameError",
     "evalue": "name 'new_in_features' is not defined",
     "output_type": "error",
     "traceback": [
      "\u001b[31m---------------------------------------------------------------------------\u001b[39m",
      "\u001b[31mNameError\u001b[39m                                 Traceback (most recent call last)",
      "\u001b[36mCell\u001b[39m\u001b[36m \u001b[39m\u001b[32mIn[1]\u001b[39m\u001b[32m, line 1\u001b[39m\n\u001b[32m----> \u001b[39m\u001b[32m1\u001b[39m \u001b[43mnew_in_features\u001b[49m\n",
      "\u001b[31mNameError\u001b[39m: name 'new_in_features' is not defined"
     ]
    }
   ],
   "source": [
    "new_in_features"
   ]
  },
  {
   "cell_type": "code",
   "execution_count": 95,
   "metadata": {},
   "outputs": [
    {
     "data": {
      "text/plain": [
       "tensor([[[ -3,  -1,   0],\n",
       "         [ -3,  -2,   0]],\n",
       "\n",
       "        [[  0,  -8,  -7],\n",
       "         [-19,   0, -16]]])"
      ]
     },
     "execution_count": 95,
     "metadata": {},
     "output_type": "execute_result"
    }
   ],
   "source": [
    "new_in_features = in_features - in_features_max\n",
    "new_in_features"
   ]
  },
  {
   "cell_type": "code",
   "execution_count": 96,
   "metadata": {},
   "outputs": [
    {
     "data": {
      "text/plain": [
       "tensor([[[4.9787e-02, 3.6788e-01, 1.0000e+00],\n",
       "         [4.9787e-02, 1.3534e-01, 1.0000e+00]],\n",
       "\n",
       "        [[1.0000e+00, 3.3546e-04, 9.1188e-04],\n",
       "         [5.6028e-09, 1.0000e+00, 1.1254e-07]]])"
      ]
     },
     "execution_count": 96,
     "metadata": {},
     "output_type": "execute_result"
    }
   ],
   "source": [
    "exp_f = torch.exp(new_in_features)\n",
    "exp_f"
   ]
  },
  {
   "cell_type": "code",
   "execution_count": 100,
   "metadata": {},
   "outputs": [
    {
     "data": {
      "text/plain": [
       "tensor([[1.4177, 1.1851],\n",
       "        [1.0012, 1.0000]])"
      ]
     },
     "execution_count": 100,
     "metadata": {},
     "output_type": "execute_result"
    }
   ],
   "source": [
    "exp_f.sum(dim=dim)\n"
   ]
  },
  {
   "cell_type": "code",
   "execution_count": 101,
   "metadata": {},
   "outputs": [
    {
     "ename": "RuntimeError",
     "evalue": "The size of tensor a (3) must match the size of tensor b (2) at non-singleton dimension 2",
     "output_type": "error",
     "traceback": [
      "\u001b[31m---------------------------------------------------------------------------\u001b[39m",
      "\u001b[31mRuntimeError\u001b[39m                              Traceback (most recent call last)",
      "\u001b[36mCell\u001b[39m\u001b[36m \u001b[39m\u001b[32mIn[101]\u001b[39m\u001b[32m, line 1\u001b[39m\n\u001b[32m----> \u001b[39m\u001b[32m1\u001b[39m \u001b[43mexp_f\u001b[49m\u001b[43m/\u001b[49m\u001b[43mexp_f\u001b[49m\u001b[43m.\u001b[49m\u001b[43msum\u001b[49m\u001b[43m(\u001b[49m\u001b[43mdim\u001b[49m\u001b[43m=\u001b[49m\u001b[43mdim\u001b[49m\u001b[43m)\u001b[49m\n",
      "\u001b[31mRuntimeError\u001b[39m: The size of tensor a (3) must match the size of tensor b (2) at non-singleton dimension 2"
     ]
    }
   ],
   "source": [
    "exp_f/exp_f.sum(dim=dim)"
   ]
  },
  {
   "cell_type": "code",
   "execution_count": 99,
   "metadata": {},
   "outputs": [
    {
     "data": {
      "text/plain": [
       "tensor([[[3.5119e-02, 2.5950e-01, 7.0538e-01],\n",
       "         [4.2010e-02, 1.1420e-01, 8.4379e-01]],\n",
       "\n",
       "        [[9.9875e-01, 3.3504e-04, 9.1075e-04],\n",
       "         [5.6028e-09, 1.0000e+00, 1.1254e-07]]])"
      ]
     },
     "execution_count": 99,
     "metadata": {},
     "output_type": "execute_result"
    }
   ],
   "source": [
    "exp_f/exp_f.sum(dim=dim).unsqueeze(dim=dim)"
   ]
  },
  {
   "cell_type": "code",
   "execution_count": 80,
   "metadata": {},
   "outputs": [
    {
     "data": {
      "text/plain": [
       "torch.Size([2, 2, 1])"
      ]
     },
     "execution_count": 80,
     "metadata": {},
     "output_type": "execute_result"
    }
   ],
   "source": [
    "a_max = rearrange(a.max(dim=-1).values, \"... -> ... 1\")\n",
    "a_max.shape"
   ]
  },
  {
   "cell_type": "code",
   "execution_count": 81,
   "metadata": {},
   "outputs": [
    {
     "data": {
      "text/plain": [
       "tensor([[[ 3],\n",
       "         [ 4]],\n",
       "\n",
       "        [[10],\n",
       "         [20]]])"
      ]
     },
     "execution_count": 81,
     "metadata": {},
     "output_type": "execute_result"
    }
   ],
   "source": [
    "a_max"
   ]
  },
  {
   "cell_type": "code",
   "execution_count": 82,
   "metadata": {},
   "outputs": [
    {
     "data": {
      "text/plain": [
       "tensor([[[ 3,  4],\n",
       "         [10, 20]]])"
      ]
     },
     "execution_count": 82,
     "metadata": {},
     "output_type": "execute_result"
    }
   ],
   "source": [
    "a.max(dim=-1).values.unsqueeze(dim=0)"
   ]
  },
  {
   "cell_type": "code",
   "execution_count": 74,
   "metadata": {},
   "outputs": [
    {
     "data": {
      "text/plain": [
       "tensor([[[ -3,  -1,   0],\n",
       "         [ -3,  -2,   0]],\n",
       "\n",
       "        [[  0,  -8,  -7],\n",
       "         [-19,   0, -16]]])"
      ]
     },
     "execution_count": 74,
     "metadata": {},
     "output_type": "execute_result"
    }
   ],
   "source": [
    "y = a - a_max\n",
    "y"
   ]
  },
  {
   "cell_type": "code",
   "execution_count": 75,
   "metadata": {},
   "outputs": [
    {
     "data": {
      "text/plain": [
       "tensor([[[2.0611e-09, 1.5229e-08, 4.1397e-08],\n",
       "         [5.6025e-09, 1.5229e-08, 1.1253e-07]],\n",
       "\n",
       "        [[4.5398e-05, 1.5229e-08, 4.1397e-08],\n",
       "         [5.6025e-09, 9.9995e-01, 1.1253e-07]]])"
      ]
     },
     "execution_count": 75,
     "metadata": {},
     "output_type": "execute_result"
    }
   ],
   "source": [
    "ea  = torch.exp(a)\n",
    "ea/ea.sum()"
   ]
  },
  {
   "cell_type": "code",
   "execution_count": 41,
   "metadata": {},
   "outputs": [
    {
     "data": {
      "text/plain": [
       "tensor([0.0351, 0.2595, 0.7054])"
      ]
     },
     "execution_count": 41,
     "metadata": {},
     "output_type": "execute_result"
    }
   ],
   "source": []
  },
  {
   "cell_type": "code",
   "execution_count": 34,
   "metadata": {},
   "outputs": [
    {
     "data": {
      "text/plain": [
       "tensor([0.0351, 0.2595, 0.7054])"
      ]
     },
     "execution_count": 34,
     "metadata": {},
     "output_type": "execute_result"
    }
   ],
   "source": [
    "ea/ea.sum()"
   ]
  },
  {
   "cell_type": "code",
   "execution_count": 39,
   "metadata": {},
   "outputs": [
    {
     "data": {
      "text/plain": [
       "tensor([[0.6683],\n",
       "        [0.6852],\n",
       "        [0.6384],\n",
       "        [0.9639],\n",
       "        [0.9013],\n",
       "        [0.6333],\n",
       "        [0.9476],\n",
       "        [0.8541]])"
      ]
     },
     "execution_count": 39,
     "metadata": {},
     "output_type": "execute_result"
    }
   ],
   "source": [
    "import torch \n",
    "\n",
    "\n",
    "x = torch.tensor([[0.1088, 0.1060, 0.6683, 0.5131, 0.0645],\n",
    "        [0.4538, 0.6852, 0.2520, 0.3792, 0.2675],\n",
    "        [0.4578, 0.3357, 0.6384, 0.0481, 0.5612],\n",
    "        [0.9639, 0.8864, 0.1585, 0.3038, 0.0350],\n",
    "        [0.3356, 0.9013, 0.7052, 0.8294, 0.8334],\n",
    "        [0.6333, 0.4434, 0.1428, 0.5739, 0.3810],\n",
    "        [0.9476, 0.5917, 0.7037, 0.2987, 0.6208],\n",
    "        [0.8541, 0.1803, 0.2054, 0.4775, 0.8199]])\n",
    "\n",
    "from einops import reduce, rearrange, einsum\n",
    "\n",
    "x_max1 = reduce(x, 'b d -> b 1', 'max')\n",
    "x_max1"
   ]
  },
  {
   "cell_type": "code",
   "execution_count": 40,
   "metadata": {},
   "outputs": [
    {
     "data": {
      "text/plain": [
       "tensor([[-0.5595, -0.5623,  0.0000, -0.1552, -0.6038],\n",
       "        [-0.2314,  0.0000, -0.4332, -0.3060, -0.4177],\n",
       "        [-0.1806, -0.3027,  0.0000, -0.5903, -0.0772],\n",
       "        [ 0.0000, -0.0775, -0.8054, -0.6601, -0.9289],\n",
       "        [-0.5657,  0.0000, -0.1961, -0.0719, -0.0679],\n",
       "        [ 0.0000, -0.1899, -0.4905, -0.0594, -0.2523],\n",
       "        [ 0.0000, -0.3559, -0.2439, -0.6489, -0.3268],\n",
       "        [ 0.0000, -0.6738, -0.6487, -0.3766, -0.0342]])"
      ]
     },
     "execution_count": 40,
     "metadata": {},
     "output_type": "execute_result"
    }
   ],
   "source": [
    "x_reduce = x -x_max1\n",
    "x_reduce"
   ]
  },
  {
   "cell_type": "code",
   "execution_count": 41,
   "metadata": {},
   "outputs": [
    {
     "data": {
      "text/plain": [
       "tensor([[1],\n",
       "        [0],\n",
       "        [2],\n",
       "        [2],\n",
       "        [4],\n",
       "        [1],\n",
       "        [4],\n",
       "        [0]])"
      ]
     },
     "execution_count": 41,
     "metadata": {},
     "output_type": "execute_result"
    }
   ],
   "source": [
    "target  = torch.tensor([1, 0, 2, 2, 4, 1, 4, 0])\n",
    "target = rearrange(target, \"b -> b 1\")\n",
    "target"
   ]
  },
  {
   "cell_type": "code",
   "execution_count": 48,
   "metadata": {},
   "outputs": [
    {
     "data": {
      "text/plain": [
       "tensor([[0],\n",
       "        [1],\n",
       "        [2],\n",
       "        [3],\n",
       "        [4],\n",
       "        [5],\n",
       "        [6],\n",
       "        [7]])"
      ]
     },
     "execution_count": 48,
     "metadata": {},
     "output_type": "execute_result"
    }
   ],
   "source": []
  },
  {
   "cell_type": "code",
   "execution_count": 54,
   "metadata": {},
   "outputs": [
    {
     "data": {
      "text/plain": [
       "tensor([-0.5623, -0.2314,  0.0000, -0.8054, -0.0679, -0.1899, -0.3268,  0.0000])"
      ]
     },
     "execution_count": 54,
     "metadata": {},
     "output_type": "execute_result"
    }
   ],
   "source": [
    "batch_indices = torch.arange(x_reduce.shape[0]).unsqueeze(1)\n",
    "target_p  = x_reduce[batch_indices, target]\n",
    "target_p = rearrange(target_p, \"b 1 -> b\")\n",
    "target_p"
   ]
  },
  {
   "cell_type": "code",
   "execution_count": 56,
   "metadata": {},
   "outputs": [
    {
     "data": {
      "text/plain": [
       "tensor([1.2654, 1.3446, 1.3996, 1.1891, 1.4481, 1.4252, 1.3159, 1.3043])"
      ]
     },
     "execution_count": 56,
     "metadata": {},
     "output_type": "execute_result"
    }
   ],
   "source": [
    "log_sum_exp = torch.log(reduce(torch.exp(x_reduce), \"b m -> b\", 'sum'))\n",
    "log_sum_exp"
   ]
  },
  {
   "cell_type": "code",
   "execution_count": 60,
   "metadata": {},
   "outputs": [],
   "source": [
    "ce_loss = - target_p + log_sum_exp\n"
   ]
  },
  {
   "cell_type": "code",
   "execution_count": 62,
   "metadata": {},
   "outputs": [
    {
     "data": {
      "text/plain": [
       "tensor(1.6095)"
      ]
     },
     "execution_count": 62,
     "metadata": {},
     "output_type": "execute_result"
    }
   ],
   "source": [
    "reduce(ce_loss, \"b -> \", 'sum')/8"
   ]
  },
  {
   "cell_type": "code",
   "execution_count": 9,
   "metadata": {},
   "outputs": [
    {
     "data": {
      "text/plain": [
       "tensor([[-0.0071,  0.6123],\n",
       "        [ 0.0865, -1.9742]])"
      ]
     },
     "execution_count": 9,
     "metadata": {},
     "output_type": "execute_result"
    }
   ],
   "source": [
    "import torch\n",
    "x = torch.randn(2, 2)\n",
    "x"
   ]
  },
  {
   "cell_type": "code",
   "execution_count": 10,
   "metadata": {},
   "outputs": [
    {
     "data": {
      "text/plain": [
       "tensor([[-0.0141,  1.2245],\n",
       "        [ 0.1730, -3.9485]])"
      ]
     },
     "execution_count": 10,
     "metadata": {},
     "output_type": "execute_result"
    }
   ],
   "source": [
    "x*2"
   ]
  },
  {
   "cell_type": "code",
   "execution_count": 66,
   "metadata": {},
   "outputs": [],
   "source": [
    "from collections.abc import Callable, Iterable\n",
    "from typing import Optional\n",
    "import torch\n",
    "import math\n",
    "\n",
    "\n",
    "class SGD(torch.optim.Optimizer):\n",
    "    def __init__(self, params, lr=1e-3):\n",
    "        if lr < 0:\n",
    "            raise ValueError(f\"Invalid learning rate: {lr}\")\n",
    "        defaults = {\"lr\": lr}\n",
    "        super().__init__(params, defaults)\n",
    "\n",
    "    def step(self, closure: Optional[Callable] = None):\n",
    "        loss = None if closure is None else closure()\n",
    "        for group in self.param_groups:\n",
    "            lr = group[\"lr\"]\n",
    "            for p in group[\"params\"]:\n",
    "                if p.grad is None:\n",
    "                    continue\n",
    "                \n",
    "                state = self.state[p] # Get state associated with p.\n",
    "                t = state.get(\"t\", 0)\n",
    "                grad = p.grad.data\n",
    "                p.data -= lr / math.sqrt(t + 1) * grad\n",
    "                state[\"t\"] = t + 1\n",
    "        return loss\n",
    "\n",
    "\n",
    "\n",
    "import matplotlib.pyplot as plt\n",
    "\n",
    "\n",
    "def train(lr):\n",
    "    weights = torch.nn.Parameter(5 * torch.randn((10, 10)))\n",
    "    opt = SGD([weights], lr=lr)\n",
    "\n",
    "    losses = []\n",
    "    for t in range(10):\n",
    "        opt.zero_grad() # Reset the gradients for all learnable parameters.\n",
    "        loss = (weights**2).mean()\n",
    "        losses.append(loss.cpu().item())  # Store the loss value\n",
    "        loss.backward() # Run backward pass, which computes gradients.\n",
    "        opt.step() # Run optimizer step.\n",
    "\n",
    "\n",
    "    plt.figure(figsize=(4, 3))\n",
    "    plt.plot(losses)\n",
    "    plt.title(f'Training Loss Over Time (lr={lr})')\n",
    "    plt.xlabel('Iteration')\n",
    "    plt.ylabel('Loss')\n",
    "    plt.grid(True)\n",
    "    plt.yscale('log')  # Use log scale if loss varies by orders of magnitude\n",
    "    plt.show()\n"
   ]
  },
  {
   "cell_type": "code",
   "execution_count": 73,
   "metadata": {},
   "outputs": [
    {
     "data": {
      "text/plain": [
       "tensor(10.1982, grad_fn=<MeanBackward0>)"
      ]
     },
     "execution_count": 73,
     "metadata": {},
     "output_type": "execute_result"
    }
   ],
   "source": [
    "loss"
   ]
  },
  {
   "cell_type": "code",
   "execution_count": 67,
   "metadata": {},
   "outputs": [
    {
     "data": {
      "image/png": "[encoded data removed]",
      "text/plain": [
       "<Figure size 400x300 with 1 Axes>"
      ]
     },
     "metadata": {},
     "output_type": "display_data"
    }
   ],
   "source": [
    "train(1e1)"
   ]
  },
  {
   "cell_type": "code",
   "execution_count": 68,
   "metadata": {},
   "outputs": [
    {
     "data": {
      "image/png": "[encoded data removed]",
      "text/plain": [
       "<Figure size 400x300 with 1 Axes>"
      ]
     },
     "metadata": {},
     "output_type": "display_data"
    }
   ],
   "source": [
    "train(1e2)"
   ]
  },
  {
   "cell_type": "code",
   "execution_count": 69,
   "metadata": {},
   "outputs": [
    {
     "data": {
      "image/png": "[encoded data removed]",
      "text/plain": [
       "<Figure size 400x300 with 1 Axes>"
      ]
     },
     "metadata": {},
     "output_type": "display_data"
    }
   ],
   "source": [
    "train(1e3)"
   ]
  },
  {
   "cell_type": "code",
   "execution_count": 70,
   "metadata": {},
   "outputs": [
    {
     "data": {
      "text/plain": [
       "10.0"
      ]
     },
     "execution_count": 70,
     "metadata": {},
     "output_type": "execute_result"
    }
   ],
   "source": [
    "1e1"
   ]
  },
  {
   "cell_type": "code",
   "execution_count": 25,
   "metadata": {},
   "outputs": [
    {
     "data": {
      "image/png": "[encoded data removed]",
      "text/plain": [
       "<Figure size 800x400 with 1 Axes>"
      ]
     },
     "metadata": {},
     "output_type": "display_data"
    }
   ],
   "source": [
    "import numpy as np\n",
    "import matplotlib.pyplot as plt\n",
    "\n",
    "alpha_max = 1.0\n",
    "alpha_min = 0.1\n",
    "Tw = 5\n",
    "Tc = 100\n",
    "\n",
    "# warm up\n",
    "tw_vals = np.arange(1, Tw+1)\n",
    "alpha_tw = tw_vals*alpha_max/Tw\n",
    "\n",
    "\n",
    "t_vals = np.arange(Tw+1, Tc+1)\n",
    "alpha_t = alpha_min + 0.5 * (1 + np.cos((t_vals - Tw) / (Tc - Tw) * np.pi)) * (alpha_max - alpha_min)\n",
    "\n",
    "t_vals = np.concatenate((tw_vals, t_vals))\n",
    "alpha_t = np.concatenate((alpha_tw, alpha_t))\n",
    "\n",
    "\n",
    "plt.figure(figsize=(8,4))\n",
    "plt.plot(t_vals, alpha_t, label=r'Cosine Annealing ($\\alpha_t$)')\n",
    "plt.xlabel(\"Step $t$\")\n",
    "plt.ylabel(\"Learning Rate $\\\\alpha_t$\")\n",
    "plt.title(\"Cosine Annealing Learning Rate Schedule\")\n",
    "plt.grid(True)\n",
    "plt.ylim(alpha_min - 0.05, alpha_max + 0.05)\n",
    "plt.legend()\n",
    "plt.show()"
   ]
  },
  {
   "cell_type": "code",
   "execution_count": 24,
   "metadata": {},
   "outputs": [
    {
     "data": {
      "text/plain": [
       "array([1, 2, 3, 4, 5])"
      ]
     },
     "execution_count": 24,
     "metadata": {},
     "output_type": "execute_result"
    }
   ],
   "source": []
  },
  {
   "cell_type": "code",
   "execution_count": null,
   "metadata": {},
   "outputs": [],
   "source": []
  }
 ],
 "metadata": {
  "kernelspec": {
   "display_name": "CS336 Python",
   "language": "python",
   "name": "cs336-basics"
  },
  "language_info": {
   "codemirror_mode": {
    "name": "ipython",
    "version": 3
   },
   "file_extension": ".py",
   "mimetype": "text/x-python",
   "name": "python",
   "nbconvert_exporter": "python",
   "pygments_lexer": "ipython3",
   "version": "3.13.2"
  }
 },
 "nbformat": 4,
 "nbformat_minor": 2
}
